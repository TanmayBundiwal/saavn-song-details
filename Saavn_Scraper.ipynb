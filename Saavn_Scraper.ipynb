{
 "cells": [
  {
   "cell_type": "code",
   "execution_count": 2,
   "metadata": {},
   "outputs": [],
   "source": [
    "import tkinter as tk\n",
    "import tkinter.filedialog as f   #because tkinter is structured in this way\n",
    "from tkinter import messagebox\n",
    "import json\n",
    "import bs4\n",
    "import re\n",
    "import csv"
   ]
  },
  {
   "cell_type": "code",
   "execution_count": 3,
   "metadata": {},
   "outputs": [],
   "source": [
    "def remove_html_tags(text):\n",
    "    clean = re.compile('<.*?>')\n",
    "    return re.sub(clean, '', text)"
   ]
  },
  {
   "cell_type": "code",
   "execution_count": 4,
   "metadata": {},
   "outputs": [],
   "source": [
    "keys = ['title','album','singers','duration','year','music','language','label','image_url']"
   ]
  },
  {
   "cell_type": "markdown",
   "metadata": {},
   "source": [
    "Getting filepath from simple UI"
   ]
  },
  {
   "cell_type": "code",
   "execution_count": 5,
   "metadata": {},
   "outputs": [],
   "source": [
    "root = tk.Tk()\n",
    "root.withdraw()\n",
    "filepath = tk.filedialog.askopenfile(parent=root,mode='r', title='Choose a file').name"
   ]
  },
  {
   "cell_type": "code",
   "execution_count": 6,
   "metadata": {},
   "outputs": [],
   "source": [
    "page = open(filepath, encoding=\"utf8\")\n",
    "Playlist = bs4.BeautifulSoup(page.read())"
   ]
  },
  {
   "cell_type": "code",
   "execution_count": 7,
   "metadata": {},
   "outputs": [],
   "source": [
    "songs = Playlist.find_all('div', class_='song-json')"
   ]
  },
  {
   "cell_type": "code",
   "execution_count": 7,
   "metadata": {},
   "outputs": [],
   "source": [
    "root = tk.Tk()\n",
    "root.withdraw()\n",
    "filename = tk.filedialog.asksaveasfile(mode='w',title = 'Save file as',defaultextension=\".csv\", )"
   ]
  },
  {
   "cell_type": "code",
   "execution_count": 8,
   "metadata": {},
   "outputs": [],
   "source": [
    "Output_file = open(filename.name,'w',newline='')\n",
    "Out_Writer  = csv.writer(Output_file)\n",
    "Out_Writer.writerow(keys);"
   ]
  },
  {
   "cell_type": "code",
   "execution_count": 9,
   "metadata": {},
   "outputs": [],
   "source": [
    "failed = []\n",
    "for i in range(0,len(songs)):\n",
    "    try:\n",
    "        s = remove_html_tags(str(songs[i]))\n",
    "        data = json.loads(s)\n",
    "        l = []\n",
    "        for key in keys:\n",
    "               l.append(data[key])\n",
    "        Out_Writer.writerow(l)\n",
    "    except:\n",
    "        failed.append(i)\n",
    "        continue"
   ]
  },
  {
   "cell_type": "code",
   "execution_count": 10,
   "metadata": {},
   "outputs": [],
   "source": [
    "Output_file.close()"
   ]
  },
  {
   "cell_type": "code",
   "execution_count": 21,
   "metadata": {},
   "outputs": [],
   "source": [
    "if failed:\n",
    "    root = tk.Tk()\n",
    "    root.withdraw()\n",
    "    messagebox.showwarning(\"Warning\",'Details of '+str(len(failed))+' songs could not be extracted.  Indices: '+str(failed))"
   ]
  }
 ],
 "metadata": {
  "kernelspec": {
   "display_name": "Python 3",
   "language": "python",
   "name": "python3"
  },
  "language_info": {
   "codemirror_mode": {
    "name": "ipython",
    "version": 3
   },
   "file_extension": ".py",
   "mimetype": "text/x-python",
   "name": "python",
   "nbconvert_exporter": "python",
   "pygments_lexer": "ipython3",
   "version": "3.7.6"
  }
 },
 "nbformat": 4,
 "nbformat_minor": 4
}
